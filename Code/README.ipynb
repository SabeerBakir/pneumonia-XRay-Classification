{
 "cells": [
  {
   "cell_type": "markdown",
   "metadata": {},
   "source": [
    "### Chest XRay Pneumonia - Project\n",
    "\n",
    "The following is a (very simple) example of a README file that allows the user to re-run data pre-processing, training, validation and evaluation. Note that you will likely perform more extensive hyperparameter tuning and train more models. You should inform the user how this hyperparameter was performed and ideally provide code for them to reproduce this process. \n",
    "\n",
    "Download data (and move into project folder): https://www.kaggle.com/paultimothymooney/chest-xray-pneumonia"
   ]
  },
  {
   "cell_type": "markdown",
   "metadata": {},
   "source": [
    "### Training & validation\n",
    "* In order to write data before running training please set --write_data option to True (False by default). \n",
    "* During training, the validation accuracy will be evaluated in order to choose the optimal number of epochs to train models.\n",
    "* A log file will be generated during training to record validation loss and accuracy for future reference. "
   ]
  },
  {
   "cell_type": "markdown",
   "metadata": {},
   "source": [
    "#### Train MLP"
   ]
  },
  {
   "cell_type": "code",
   "execution_count": null,
   "metadata": {},
   "outputs": [],
   "source": [
    "!python main.py MLP --write_data True"
   ]
  },
  {
   "cell_type": "code",
   "execution_count": null,
   "metadata": {},
   "outputs": [],
   "source": [
    "! python main.py MLP --write_data True"
   ]
  },
  {
   "cell_type": "markdown",
   "metadata": {},
   "source": [
    "#### Train CNN"
   ]
  },
  {
   "cell_type": "code",
   "execution_count": null,
   "metadata": {},
   "outputs": [],
   "source": [
    "! python main.py CNN"
   ]
  },
  {
   "cell_type": "markdown",
   "metadata": {},
   "source": [
    "#### Lets take a look at the validation performance for MLPs"
   ]
  },
  {
   "cell_type": "code",
   "execution_count": null,
   "metadata": {},
   "outputs": [],
   "source": [
    "import json\n",
    "%matplotlib inline\n",
    "from utils.plotting import plot_training\n",
    "\n",
    "\n",
    "cnn_val_log = \"logs/cnn/CNN_120420_041934.json\"\n",
    "\n",
    "\n",
    "with open(cnn_val_log, 'r') as cnn:\n",
    "    cnn_val_json = json.load(cnn)\n",
    "    \n",
    "\n",
    "fig = plot_training(cnn_val_json[\"train_losses\"],\n",
    "                    cnn_val_json[\"train_accs\"],\n",
    "                    cnn_val_json[\"val_losses\"], \n",
    "                    cnn_val_json[\"val_accs\"],\n",
    "                    model_name=\"CNN\",\n",
    "                    return_fig=True)\n",
    "\n",
    "fig.savefig('figs/CNN_training_vis.png')"
   ]
  },
  {
   "cell_type": "code",
   "execution_count": null,
   "metadata": {},
   "outputs": [],
   "source": [
    "! python eval.py logs/mlp/MLP_130320_184810.json 5"
   ]
  },
  {
   "cell_type": "code",
   "execution_count": null,
   "metadata": {},
   "outputs": [],
   "source": [
    "! python eval.py logs/cnn/CNN_130320_193314.json 5"
   ]
  },
  {
   "cell_type": "code",
   "execution_count": null,
   "metadata": {},
   "outputs": [],
   "source": [
    "import json\n",
    "import numpy as np\n",
    "import pandas as pd\n",
    "\n",
    "\n",
    "with open(\"logs/cnn/eval_logs/CNN_5.json\") as f:\n",
    "    cnn_log = json.load(f)\n",
    "    \n",
    "    \n",
    "results_df = pd.DataFrame({\"model\":[\"CNN\"],\n",
    "                    \"accuracy\":[\"{0:.2f}\\u00B1 {1:.4f}\".format(cnn_log[\"mean_acc\"], np.sqrt(cnn_log[\"var_acc\"]))]})\n",
    "\n",
    "\n",
    "results_df"
   ]
  },
  {
   "cell_type": "code",
   "execution_count": null,
   "metadata": {},
   "outputs": [],
   "source": [
    "# Handy tool for converting results to LaTeX table. \n",
    "print(results_df.to_latex(index=False))  "
   ]
  }
 ],
 "metadata": {
  "kernelspec": {
   "display_name": "Python 3",
   "language": "python",
   "name": "python3"
  },
  "language_info": {
   "codemirror_mode": {
    "name": "ipython",
    "version": 3
   },
   "file_extension": ".py",
   "mimetype": "text/x-python",
   "name": "python",
   "nbconvert_exporter": "python",
   "pygments_lexer": "ipython3",
   "version": "3.7.6"
  }
 },
 "nbformat": 4,
 "nbformat_minor": 4
}

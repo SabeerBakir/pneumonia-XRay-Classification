{
 "cells": [
  {
   "cell_type": "markdown",
   "metadata": {},
   "source": [
    "### Chest XRay Pneumonia - Project\n",
    "\n",
    "This README will run and evaluate the four models (MLP, CNN, AlexNet and ResNext /w Transfer Learning). It will log and display the results. Please refer to the report for further details.\n",
    "\n",
    "Download data (and move into the Datasets directory): https://www.kaggle.com/paultimothymooney/chest-xray-pneumonia"
   ]
  },
  {
   "cell_type": "markdown",
   "metadata": {},
   "source": [
    "#### Train MLP"
   ]
  },
  {
   "cell_type": "code",
   "execution_count": null,
   "metadata": {
    "scrolled": true
   },
   "outputs": [],
   "source": [
    "! python main.py MLP"
   ]
  },
  {
   "cell_type": "markdown",
   "metadata": {},
   "source": [
    "#### Train CNN"
   ]
  },
  {
   "cell_type": "code",
   "execution_count": null,
   "metadata": {},
   "outputs": [],
   "source": [
    "! python main.py CNN"
   ]
  },
  {
   "cell_type": "markdown",
   "metadata": {},
   "source": [
    "#### Train AlexNet"
   ]
  },
  {
   "cell_type": "code",
   "execution_count": null,
   "metadata": {},
   "outputs": [],
   "source": [
    "! python main.py AlexNet"
   ]
  },
  {
   "cell_type": "markdown",
   "metadata": {},
   "source": [
    "#### Train ResNext w/ Transfer Learning"
   ]
  },
  {
   "cell_type": "code",
   "execution_count": null,
   "metadata": {},
   "outputs": [],
   "source": [
    "! python main.py ResNext"
   ]
  },
  {
   "cell_type": "markdown",
   "metadata": {},
   "source": [
    "#### Evaluate the Training"
   ]
  },
  {
   "cell_type": "code",
   "execution_count": null,
   "metadata": {},
   "outputs": [],
   "source": [
    "! python eval.py logs/mlp/MLP_130320_184810.json 10"
   ]
  },
  {
   "cell_type": "code",
   "execution_count": null,
   "metadata": {},
   "outputs": [],
   "source": [
    "! python eval.py logs/cnn/CNN_130320_193314.json 10"
   ]
  },
  {
   "cell_type": "code",
   "execution_count": null,
   "metadata": {},
   "outputs": [],
   "source": [
    "! python eval.py logs/alexnet/AlexNet_170420_034245.json 10"
   ]
  },
  {
   "cell_type": "code",
   "execution_count": null,
   "metadata": {},
   "outputs": [],
   "source": [
    "! python eval.py logs/resnext/ResNext_170420_040813.json 10"
   ]
  },
  {
   "cell_type": "markdown",
   "metadata": {},
   "source": [
    "#### Display the results"
   ]
  },
  {
   "cell_type": "code",
   "execution_count": null,
   "metadata": {
    "scrolled": true
   },
   "outputs": [],
   "source": [
    "import json\n",
    "import numpy as np\n",
    "import pandas as pd\n",
    "\n",
    "with open(\"logs/cnn/eval_logs/CNN_10.json\") as f:\n",
    "    cnn_log = json.load(f)\n",
    "    \n",
    "with open(\"logs/alexnet/eval_logs/AlexNet_10.json\") as f:\n",
    "    alx_log = json.load(f)\n",
    "    \n",
    "with open(\"logs/mlp/eval_logs/MLP_10.json\") as f:\n",
    "    mlp_log = json.load(f)\n",
    "    \n",
    "with open(\"logs/resnext/eval_logs/ResNext_10.json\") as f:\n",
    "    res_log = json.load(f)\n",
    "    \n",
    "results = pd.DataFrame({\"model\":[\"CNN\"],\n",
    "                    \"roc auc\":[\"{0:.2f}\\u00B1 {1:.4f}\".format(cnn_log[\"mean_roc_auc\"], np.sqrt(cnn_log[\"var_roc_auc\"]))]})\n",
    "\n",
    "results = results.append( pd.DataFrame({\"model\":[\"AlexNet\"],\n",
    "                    \"roc auc\":[\"{0:.2f}\\u00B1 {1:.4f}\".format(alx_log[\"mean_roc_auc\"], np.sqrt(alx_log[\"var_roc_auc\"]))]}) )\n",
    "\n",
    "results = results.append( pd.DataFrame({\"model\":[\"MLP\"],\n",
    "                    \"roc auc\":[\"{0:.2f}\\u00B1 {1:.4f}\".format(mlp_log[\"mean_roc_auc\"], np.sqrt(mlp_log[\"var_roc_auc\"]))]}) )\n",
    "\n",
    "results = results.append( pd.DataFrame({\"model\":[\"ResNext\"],\n",
    "                    \"roc auc\":[\"{0:.2f}\\u00B1 {1:.4f}\".format(res_log[\"mean_roc_auc\"], np.sqrt(res_log[\"var_roc_auc\"]))]}) )"
   ]
  },
  {
   "cell_type": "code",
   "execution_count": null,
   "metadata": {},
   "outputs": [],
   "source": [
    "results"
   ]
  },
  {
   "cell_type": "code",
   "execution_count": null,
   "metadata": {},
   "outputs": [],
   "source": [
    "# Handy tool for converting results to LaTeX table. \n",
    "print(results.to_latex(index=False))  "
   ]
  }
 ],
 "metadata": {
  "kernelspec": {
   "display_name": "Python 3",
   "language": "python",
   "name": "python3"
  },
  "language_info": {
   "codemirror_mode": {
    "name": "ipython",
    "version": 3
   },
   "file_extension": ".py",
   "mimetype": "text/x-python",
   "name": "python",
   "nbconvert_exporter": "python",
   "pygments_lexer": "ipython3",
   "version": "3.7.6"
  }
 },
 "nbformat": 4,
 "nbformat_minor": 4
}

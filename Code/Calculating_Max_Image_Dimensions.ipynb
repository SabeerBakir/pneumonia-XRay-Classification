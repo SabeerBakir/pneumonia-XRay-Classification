{
 "cells": [
  {
   "cell_type": "code",
   "execution_count": 1,
   "metadata": {},
   "outputs": [],
   "source": [
    "#from matplotlib import image\n",
    "#import matplotlib.pyplot as plt\n",
    "#import numpy as np\n",
    "#from sklearn.linear_model import Perceptron\n",
    "import PIL as pillow\n",
    "#from sklearn.metrics import accuracy_score\n",
    "from PIL import Image\n",
    "import torch\n",
    "import os"
   ]
  },
  {
   "cell_type": "markdown",
   "metadata": {},
   "source": [
    "Creating a list in which to store the jpegs"
   ]
  },
  {
   "cell_type": "code",
   "execution_count": 37,
   "metadata": {},
   "outputs": [],
   "source": [
    "images_list = []"
   ]
  },
  {
   "cell_type": "code",
   "execution_count": 38,
   "metadata": {},
   "outputs": [],
   "source": [
    "DATA_DIR = 'chest_xray/'\n",
    "NORMAL_TRAIN_DATA = DATA_DIR + 'train/NORMAL/'\n",
    "PNEUMONIA_TRAIN_DATA = DATA_DIR + 'train/PNEUMONIA/'\n",
    "NORMAL_TEST_DATA = DATA_DIR + 'test/NORMAL/'\n",
    "PNEUMONIA_TEST_DATA = DATA_DIR + 'test/PNEUMONIA/'\n",
    "NORMAL_VAL_DATA = DATA_DIR + 'val/NORMAL/'\n",
    "PNEUMONIA_VAL_DATA = DATA_DIR + 'val/PNEUMONIA/'\n",
    "\n",
    "\n",
    "with os.scandir(NORMAL_TRAIN_DATA) as it:\n",
    "    for entry in it:\n",
    "        if entry.name.endswith(\".jpeg\") and entry.is_file():\n",
    "            images_list.append(Image.open(entry.path, 'r'))\n",
    "            \n",
    "with os.scandir(PNEUMONIA_TRAIN_DATA) as it:\n",
    "    for entry in it:\n",
    "        if entry.name.endswith(\".jpeg\") and entry.is_file():\n",
    "            images_list.append(Image.open(entry.path, 'r'))\n",
    "\n",
    "with os.scandir(NORMAL_TEST_DATA) as it:\n",
    "    for entry in it:\n",
    "        if entry.name.endswith(\".jpeg\") and entry.is_file():\n",
    "            images_list.append(Image.open(entry.path, 'r'))\n",
    "\n",
    "with os.scandir(PNEUMONIA_TEST_DATA) as it:\n",
    "    for entry in it:\n",
    "        if entry.name.endswith(\".jpeg\") and entry.is_file():\n",
    "            images_list.append(Image.open(entry.path, 'r'))\n",
    "\n",
    "with os.scandir(NORMAL_VAL_DATA) as it:\n",
    "    for entry in it:\n",
    "        if entry.name.endswith(\".jpeg\") and entry.is_file():\n",
    "            images_list.append(Image.open(entry.path, 'r'))\n",
    "\n",
    "with os.scandir(PNEUMONIA_VAL_DATA) as it:\n",
    "    for entry in it:\n",
    "        if entry.name.endswith(\".jpeg\") and entry.is_file():\n",
    "            images_list.append(Image.open(entry.path, 'r'))\n"
   ]
  },
  {
   "cell_type": "markdown",
   "metadata": {},
   "source": [
    "This loop will go through every jpeg file in the 'chest_xray' directory and add the jpeg to the list"
   ]
  },
  {
   "cell_type": "code",
   "execution_count": 39,
   "metadata": {},
   "outputs": [],
   "source": [
    "current_x = 0\n",
    "current_y = 0\n",
    "max_x = 0\n",
    "max_y = 0\n",
    "for i in range(len(images_list)):\n",
    "    current_x, current_y = images_list[i].size\n",
    "    if ((current_x > max_x) & (current_y > max_y)):\n",
    "        largest_image_index = i\n",
    "    if max_x < current_x:\n",
    "        max_x = current_x\n",
    "    if max_y < current_y:\n",
    "        max_y = current_y"
   ]
  },
  {
   "cell_type": "code",
   "execution_count": 40,
   "metadata": {},
   "outputs": [
    {
     "data": {
      "text/plain": [
       "2916"
      ]
     },
     "execution_count": 40,
     "metadata": {},
     "output_type": "execute_result"
    }
   ],
   "source": [
    "max_x"
   ]
  },
  {
   "cell_type": "code",
   "execution_count": 41,
   "metadata": {},
   "outputs": [
    {
     "data": {
      "text/plain": [
       "2713"
      ]
     },
     "execution_count": 41,
     "metadata": {},
     "output_type": "execute_result"
    }
   ],
   "source": [
    "max_y"
   ]
  },
  {
   "cell_type": "markdown",
   "metadata": {},
   "source": [
    "largest_image_index was just to see if there was one jpg whose length and height were both greater than the length or height of any other jpg in the dataset. This is not the case."
   ]
  },
  {
   "cell_type": "code",
   "execution_count": 43,
   "metadata": {},
   "outputs": [
    {
     "data": {
      "text/plain": [
       "(2890, 2534)"
      ]
     },
     "execution_count": 43,
     "metadata": {},
     "output_type": "execute_result"
    }
   ],
   "source": [
    "images_list[largest_image_index].size"
   ]
  },
  {
   "cell_type": "code",
   "execution_count": null,
   "metadata": {},
   "outputs": [],
   "source": []
  }
 ],
 "metadata": {
  "kernelspec": {
   "display_name": "Python 3",
   "language": "python",
   "name": "python3"
  },
  "language_info": {
   "codemirror_mode": {
    "name": "ipython",
    "version": 3
   },
   "file_extension": ".py",
   "mimetype": "text/x-python",
   "name": "python",
   "nbconvert_exporter": "python",
   "pygments_lexer": "ipython3",
   "version": "3.7.5"
  }
 },
 "nbformat": 4,
 "nbformat_minor": 2
}

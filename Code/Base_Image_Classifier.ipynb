{
 "cells": [
  {
   "cell_type": "markdown",
   "metadata": {},
   "source": [
    "# Base Image Classifier\n",
    "\n",
    "> This notebook will attempt to classify the pneumonia images using a basic CNN, implemented using PyTorch."
   ]
  },
  {
   "cell_type": "code",
   "execution_count": null,
   "metadata": {},
   "outputs": [],
   "source": [
    "import torch\n",
    "from torchvision import transforms\n",
    "import os\n",
    "\n",
    "import numpy as np\n",
    "import matplotlib.pyplot as plt\n",
    "\n",
    "import XRay_utils"
   ]
  },
  {
   "cell_type": "markdown",
   "metadata": {},
   "source": [
    "> Define some global variables."
   ]
  },
  {
   "cell_type": "code",
   "execution_count": null,
   "metadata": {},
   "outputs": [],
   "source": [
    "DATA_DIR = '../Data/'\n",
    "\n",
    "# Directories for data\n",
    "TRAIN_DATA = DATA_DIR + 'train/'\n",
    "TEST_DATA = DATA_DIR + 'test/'\n",
    "VAL_DATA = DATA_DIR + 'val/'\n",
    "\n",
    "RESCALE_FACTOR = 0.1\n",
    "MAX_IMAGE_SIZE = tuple((np.array((3000,2800)) * RESCALE_FACTOR).astype(int))"
   ]
  },
  {
   "cell_type": "markdown",
   "metadata": {},
   "source": [
    "> Load in the data."
   ]
  },
  {
   "cell_type": "code",
   "execution_count": null,
   "metadata": {},
   "outputs": [],
   "source": [
    "transf = transforms.Compose([XRay_utils.Rescale(RESCALE_FACTOR), XRay_utils.Pad(MAX_IMAGE_SIZE, fill=0)])\n",
    "\n",
    "train_dataset = XRay_utils.XRayDataset(TRAIN_DATA, transform=transf)\n",
    "test_dataset = XRay_utils.XRayDataset(TEST_DATA)\n",
    "val_dataset = XRay_utils.XRayDataset(VAL_DATA)\n",
    "\n",
    "print('Training Samples: {}'.format(len(train_dataset)))\n",
    "print('Testing Samples: {}'.format(len(test_dataset)))\n",
    "print('Valiidation Samples: {}'.format(len(val_dataset)))"
   ]
  },
  {
   "cell_type": "markdown",
   "metadata": {},
   "source": [
    "> View some of the data"
   ]
  },
  {
   "cell_type": "code",
   "execution_count": null,
   "metadata": {},
   "outputs": [],
   "source": [
    "fig = plt.figure()\n",
    "\n",
    "for i in range(len(train_dataset)):\n",
    "    \n",
    "    sample = train_dataset[i]\n",
    "    print(i, np.asarray(sample['image']).shape)\n",
    "\n",
    "    ax = plt.subplot(1, 4, i + 1)\n",
    "    plt.tight_layout()\n",
    "    ax.set_title('{} #{}'.format(sample['class'], i))\n",
    "    ax.axis('off')\n",
    "    plt.imshow(sample['image'], cmap='gray')\n",
    "\n",
    "    if i == 3:\n",
    "        plt.show()\n",
    "        break"
   ]
  },
  {
   "cell_type": "code",
   "execution_count": null,
   "metadata": {},
   "outputs": [],
   "source": []
  },
  {
   "cell_type": "code",
   "execution_count": null,
   "metadata": {},
   "outputs": [],
   "source": []
  },
  {
   "cell_type": "code",
   "execution_count": null,
   "metadata": {},
   "outputs": [],
   "source": []
  },
  {
   "cell_type": "code",
   "execution_count": null,
   "metadata": {},
   "outputs": [],
   "source": []
  },
  {
   "cell_type": "code",
   "execution_count": null,
   "metadata": {},
   "outputs": [],
   "source": []
  }
 ],
 "metadata": {
  "kernelspec": {
   "display_name": "Python 3",
   "language": "python",
   "name": "python3"
  },
  "language_info": {
   "codemirror_mode": {
    "name": "ipython",
    "version": 3
   },
   "file_extension": ".py",
   "mimetype": "text/x-python",
   "name": "python",
   "nbconvert_exporter": "python",
   "pygments_lexer": "ipython3",
   "version": "3.7.6"
  }
 },
 "nbformat": 4,
 "nbformat_minor": 4
}
